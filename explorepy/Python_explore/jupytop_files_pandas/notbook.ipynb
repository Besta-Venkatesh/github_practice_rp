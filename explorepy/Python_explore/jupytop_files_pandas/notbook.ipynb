{
 "cells": [
  {
   "cell_type": "code",
   "execution_count": 1,
   "metadata": {},
   "outputs": [
    {
     "name": "stdout",
     "output_type": "stream",
     "text": [
      "Message sent successfully!\n"
     ]
    }
   ],
   "source": [
    "import smtplib\n",
    "from email.mime.text import MIMEText\n",
    "\n",
    "# Your email credentials\n",
    "sender_email = \"venky1998.31@gmail.com\"\n",
    "sender_password = \"kqkmgcqixalxsfwa\"\n",
    "\n",
    "# Recipient's phone number and carrier's email-to-SMS gateway address\n",
    "to_number = '+917095007315'\n",
    "carrier_gateway = '@txt.att.net'  # Change this based on the carrier (e.g., '@tmomail.net' for T-Mobile)\n",
    "to_address = to_number + carrier_gateway\n",
    "\n",
    "# Message content\n",
    "message_body = 'Hello, this is a test message from Python.'\n",
    "\n",
    "# Set up the MIMEText object\n",
    "msg = MIMEText(message_body)\n",
    "msg['From'] = sender_email\n",
    "msg['To'] = to_address\n",
    "msg['Subject'] = 'SMS Notification'\n",
    "\n",
    "# Set up the SMTP server and send the email\n",
    "try:\n",
    "    with smtplib.SMTP('smtp.gmail.com', 587) as server:\n",
    "        server.starttls()  # Enable security\n",
    "        server.login(sender_email, sender_password)  # Log in to the server\n",
    "        server.sendmail(sender_email, to_address, msg.as_string())  # Send the email\n",
    "        print(\"Message sent successfully!\")\n",
    "except Exception as e:\n",
    "    print(f\"Error: {e}\")\n"
   ]
  },
  {
   "cell_type": "code",
   "execution_count": 4,
   "metadata": {},
   "outputs": [
    {
     "name": "stdout",
     "output_type": "stream",
     "text": [
      "kjghf 78,976,978.00\n"
     ]
    }
   ],
   "source": [
    "val = 78976978\n",
    "print(f'kjghf {val:,.2f}')"
   ]
  },
  {
   "cell_type": "code",
   "execution_count": null,
   "metadata": {},
   "outputs": [],
   "source": [
    "lst1 = [12,34,423,5,54,5,45,346,54]\n",
    "lst2 = [234,45,6,7,8,67,86,79,678,34,5435]\n",
    "from itertools import zip_longest\n",
    "prit= zip_longest(lst1,lst2)\n",
    "print(list(prit))\n",
    "# print(len(lst1),len(lst2))\n",
    "# for i in range(0,max(len(lst1),len(lst2))):\n",
    "#     if i <= len(lst1)-1:\n",
    "#         print(\"list1 \",lst1[i])\n",
    "#     if i <= len(lst2)-1:\n",
    "#         print(\"list2 \",lst2[i])\n"
   ]
  },
  {
   "cell_type": "code",
   "execution_count": 46,
   "metadata": {},
   "outputs": [
    {
     "name": "stdout",
     "output_type": "stream",
     "text": [
      "{'abcde': 5, 'hijk': 4, 'rstuvwxyz': 9, 'gabcdefghijklmnopqrstuvwxyz': 27, '': 0}\n"
     ]
    }
   ],
   "source": [
    "logestsub_string = 'aedabcdedkjlhijkrstuvwxyzjsdghfabcdefghijklmnopqrstuvwxyzmzdkjfdgs'\n",
    "max_len = {}\n",
    "fr_key = ''\n",
    "for i in range(1,len(logestsub_string)):\n",
    "    if ord(logestsub_string[i]) - ord(logestsub_string[i-1])==1:\n",
    "        fr_key += logestsub_string[i-1]      \n",
    "    else:\n",
    "        if len(fr_key)>1:\n",
    "            fr_key+=logestsub_string[i-1]\n",
    "            max_len[fr_key] =len(fr_key)\n",
    "            fr_key = ''\n",
    "max_len[fr_key] =len(fr_key)\n",
    "print(max_len)\n",
    "     "
   ]
  },
  {
   "cell_type": "code",
   "execution_count": 43,
   "metadata": {},
   "outputs": [
    {
     "name": "stdout",
     "output_type": "stream",
     "text": [
      "The key for value repeted max times 5 is 1,4,6\n"
     ]
    }
   ],
   "source": [
    "# Example dictionary\n",
    "lst = [1,4,545,6,6,6,6,6,564,1,1,1,1,3,4,64,4,4,4,13]\n",
    "my_dict = {i: lst.count(i) for i in set(lst)}\n",
    "key = [k for k, v in my_dict.items() if v == max(my_dict.values())]\n",
    "print(f\"The key for value repeted max times {max(my_dict.values())} is { ','.join(map(str,key))}\")\n"
   ]
  }
 ],
 "metadata": {
  "kernelspec": {
   "display_name": ".VENV",
   "language": "python",
   "name": "python3"
  },
  "language_info": {
   "codemirror_mode": {
    "name": "ipython",
    "version": 3
   },
   "file_extension": ".py",
   "mimetype": "text/x-python",
   "name": "python",
   "nbconvert_exporter": "python",
   "pygments_lexer": "ipython3",
   "version": "3.11.9"
  }
 },
 "nbformat": 4,
 "nbformat_minor": 2
}
