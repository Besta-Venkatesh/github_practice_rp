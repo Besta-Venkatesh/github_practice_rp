{
 "cells": [
  {
   "cell_type": "code",
   "execution_count": 1,
   "metadata": {},
   "outputs": [
    {
     "name": "stdout",
     "output_type": "stream",
     "text": [
      "Message sent successfully!\n"
     ]
    }
   ],
   "source": [
    "import smtplib\n",
    "from email.mime.text import MIMEText\n",
    "\n",
    "# Your email credentials\n",
    "sender_email = \"venky1998.31@gmail.com\"\n",
    "sender_password = \"kqkmgcqixalxsfwa\"\n",
    "\n",
    "# Recipient's phone number and carrier's email-to-SMS gateway address\n",
    "to_number = '+917095007315'\n",
    "carrier_gateway = '@txt.att.net'  # Change this based on the carrier (e.g., '@tmomail.net' for T-Mobile)\n",
    "to_address = to_number + carrier_gateway\n",
    "\n",
    "# Message content\n",
    "message_body = 'Hello, this is a test message from Python.'\n",
    "\n",
    "# Set up the MIMEText object\n",
    "msg = MIMEText(message_body)\n",
    "msg['From'] = sender_email\n",
    "msg['To'] = to_address\n",
    "msg['Subject'] = 'SMS Notification'\n",
    "\n",
    "# Set up the SMTP server and send the email\n",
    "try:\n",
    "    with smtplib.SMTP('smtp.gmail.com', 587) as server:\n",
    "        server.starttls()  # Enable security\n",
    "        server.login(sender_email, sender_password)  # Log in to the server\n",
    "        server.sendmail(sender_email, to_address, msg.as_string())  # Send the email\n",
    "        print(\"Message sent successfully!\")\n",
    "except Exception as e:\n",
    "    print(f\"Error: {e}\")\n"
   ]
  },
  {
   "cell_type": "code",
   "execution_count": 4,
   "metadata": {},
   "outputs": [
    {
     "name": "stdout",
     "output_type": "stream",
     "text": [
      "kjghf 78,976,978.00\n"
     ]
    }
   ],
   "source": [
    "val = 78976978\n",
    "print(f'kjghf {val:,.2f}')"
   ]
  },
  {
   "cell_type": "code",
   "execution_count": null,
   "metadata": {},
   "outputs": [],
   "source": [
    "lst1 = [12,34,423,5,54,5,45,346,54]\n",
    "lst2 = [234,45,6,7,8,67,86,79,678,34,5435]\n",
    "from itertools import zip_longest\n",
    "prit= zip_longest(lst1,lst2)\n",
    "print(list(prit))\n",
    "# print(len(lst1),len(lst2))\n",
    "# for i in range(0,max(len(lst1),len(lst2))):\n",
    "#     if i <= len(lst1)-1:\n",
    "#         print(\"list1 \",lst1[i])\n",
    "#     if i <= len(lst2)-1:\n",
    "#         print(\"list2 \",lst2[i])\n"
   ]
  }
 ],
 "metadata": {
  "kernelspec": {
   "display_name": ".VENV",
   "language": "python",
   "name": "python3"
  },
  "language_info": {
   "codemirror_mode": {
    "name": "ipython",
    "version": 3
   },
   "file_extension": ".py",
   "mimetype": "text/x-python",
   "name": "python",
   "nbconvert_exporter": "python",
   "pygments_lexer": "ipython3",
   "version": "3.11.9"
  }
 },
 "nbformat": 4,
 "nbformat_minor": 2
}
