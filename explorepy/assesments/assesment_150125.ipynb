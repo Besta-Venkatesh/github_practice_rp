{
 "cells": [
  {
   "cell_type": "markdown",
   "metadata": {},
   "source": [
    "1) input the numerator and denominator....display the quotient and remainder\n",
    "handle the ZeroDivisionError"
   ]
  },
  {
   "cell_type": "code",
   "execution_count": null,
   "metadata": {},
   "outputs": [],
   "source": [
    "def handiling_except(numerator,denominator):\n",
    "    try:\n",
    "        return f\"Quotient and Remainder Of {numerator,denominator} are {numerator/denominator},{numerator%denominator}\"\n",
    "    except ZeroDivisionError:\n",
    "        return f\"Any Number can not be devided by Zero\"\n",
    "print(handiling_except(10,7))"
   ]
  },
  {
   "cell_type": "markdown",
   "metadata": {},
   "source": [
    "2) input some contents content-1 and content-2 in the form of str like \"189.22\"  \"45.05\"\n",
    "add them --- display the total, product, difference handle the TypeErrot/ValueError"
   ]
  },
  {
   "cell_type": "code",
   "execution_count": null,
   "metadata": {},
   "outputs": [],
   "source": [
    "def arthematic_opera(val1,val2):\n",
    "    try:\n",
    "        return f\"\"\"Total :{float(val1)+float(val2)},\n",
    "        Product : {float(val1)*float(val2)},\n",
    "        Difference : {abs(float(val1)-float(val2))}\"\"\"\n",
    "    except TypeError as e:\n",
    "        return f\"Two values Return TypoError\"\n",
    "    except ValueError as ve:\n",
    "        return f\"Two values Return ValueError\" \n",
    "\n",
    "arthematic_opera('189.22','45.06')    "
   ]
  },
  {
   "cell_type": "markdown",
   "metadata": {},
   "source": [
    "3) Input the dir name\n",
    "   Input the file name\n",
    "   read the file if it exists otherwise capture the FileNotFoundError"
   ]
  },
  {
   "cell_type": "code",
   "execution_count": null,
   "metadata": {},
   "outputs": [],
   "source": [
    "import os\n",
    "dir_name = r'C:\\Users\\user\\pythontest\\explorepy\\assesments' # input(\"Input the directory name: \")\n",
    "file_name = 'assesment_150125.ipynb'    #input(\"Input the file name: \")\n",
    "file_path = os.path.join(dir_name,file_name)\n",
    "\n",
    "# print(file_path)\n",
    "try:\n",
    "    with open(file_path, 'r') as file:\n",
    "        content = file.read()\n",
    "        print(\"File content:\")\n",
    "        print(content)\n",
    "except FileNotFoundError:\n",
    "    print(f\"File '{file_name}' not found in directory '{dir_name}'.\")\n",
    "except Exception as e:\n",
    "    print(f\"An error occurred: {e}\")\n"
   ]
  },
  {
   "cell_type": "markdown",
   "metadata": {},
   "source": [
    "4) input the date of birth as day, month, year ....example  17 06 2000 \n",
    "print the day of the week,\n",
    "input the date of birth as day, month, year ....as str example  17-June-2000 \n",
    "print the day of the week,\n",
    "find the numbers of days elapsed considering todays date,\n",
    "find the numbers of weeks elapsed considering todays date,\n",
    "find the numbers of years elapsed considering todays date"
   ]
  },
  {
   "cell_type": "code",
   "execution_count": null,
   "metadata": {},
   "outputs": [],
   "source": [
    "from datetime import datetime, timezone, timedelta \n",
    "def get_day(dte,month,year):\n",
    "    dated =datetime(year,month,dte,5,20,56)\n",
    "    return f\"Day of the date {dated} is {dated.strftime('%A')}\"\n",
    "\n",
    "get_day(31,8,1998)\n",
    "\n",
    "def get_exppected_dates(date):\n",
    "    fdate = datetime.strptime(date,'%d-%B-%Y %H:%M:%S')\n",
    "    val_date = datetime.today().year - fdate.year\n",
    "    if (datetime.now().month,datetime.now().day) < (fdate.month,fdate.day):\n",
    "        val_date +=1\n",
    "    return  f\"\"\"\n",
    "    Date :{fdate},\n",
    "    Day: {fdate.strftime(\"%A\")}, \n",
    "    Noodays_tiidate: {datetime.now()-fdate}, \n",
    "    Nooweeks_tiidate: {(datetime.now()-fdate).days/7}\n",
    "    NooYears_tiidate: {val_date}\"\"\"\n",
    "\n",
    "print(get_exppected_dates('31-August-1998 5:24:25'))\n"
   ]
  },
  {
   "cell_type": "markdown",
   "metadata": {},
   "source": [
    "5) input the hour, minute and seconds\n",
    "input the number of minutes to add ---- what is the modified time (in hh,mm,sec)?\n",
    "input the number of seconds to add"
   ]
  },
  {
   "cell_type": "code",
   "execution_count": null,
   "metadata": {},
   "outputs": [],
   "source": [
    "def fn_current_mod_date(hrs, min, sec):\n",
    "    return f\"Current Time: {datetime.now()}\\nModified Time: {datetime.now()+ timedelta(hours=hrs,minutes=min,seconds=sec)}\"\n",
    "\n",
    "print(fn_current_mod_date(10,15,92))"
   ]
  },
  {
   "cell_type": "markdown",
   "metadata": {},
   "source": [
    "6) given \n",
    "data = [[2025,4,28],[2023,11,17],[2022,14,19],[2025,8,34],[2020,2,29],[2019,10,8]]\n",
    "process the above list --- for the valid date --- print the day of the week\n",
    "invalid data ---- invalid date"
   ]
  },
  {
   "cell_type": "code",
   "execution_count": null,
   "metadata": {},
   "outputs": [],
   "source": [
    "data = [[2025,4,28],[2023,11,17],[2022,14,19],[2025,8,34],[2020,2,29],[2019,10,8]]\n",
    "data = ['-'.join(map(str,i)) for i in data]\n",
    "date_day = {}\n",
    "for f in data :\n",
    "    try:\n",
    "        valid_data = datetime.strptime(f, '%Y-%m-%d')\n",
    "        date_day[f]=valid_data.strftime('%A')\n",
    "    except Exception as e:\n",
    "        date_day[f]= f\"Invalide date {f}\"\n",
    "date_day"
   ]
  },
  {
   "cell_type": "markdown",
   "metadata": {},
   "source": [
    "7) given process the above list --- for the valid date --- print the day of the week\n",
    "invalid data ---- invalid date\n",
    "print number of days elapsed from today's date (for valid dates)\n",
    "print number of months elapsed from today's date (for valid dates)\n",
    "keeping todays date, find out how many months elapsed , processing the data from the list \n",
    "only if the year is 2025 (non 2025 ----- ignore)"
   ]
  },
  {
   "cell_type": "code",
   "execution_count": null,
   "metadata": {},
   "outputs": [],
   "source": [
    "data = [[\"2011-3-28\"],[\"2022-12-27\"],[\"2022-14-19\"],[\"2025/7/28\"],[\"2025/8/34\"],[\"2020/2/29\"],[\"2019-10-8\"],[\"2025-2-21\"]]\n",
    "new_data =[]\n",
    "for i in data:\n",
    "    new_data +=i\n",
    "new_data = [ i.replace('/','-') for i in new_data]\n",
    "date_day = {}\n",
    "for f in new_data :\n",
    "    try:\n",
    "        valid_data = datetime.strptime(f, '%Y-%m-%d')\n",
    "        nooyears = datetime.now().year - valid_data.year\n",
    "        monthdiff = datetime.now().month - valid_data.month\n",
    "        date_day[f]={\"Day\":valid_data.strftime('%A'),\n",
    "                     \"NooDays\": (datetime.now() - valid_data).days,\n",
    "                     \"NooMonths\": (nooyears*12 + monthdiff),\n",
    "                     \"This Year Month\": ( monthdiff if valid_data.year == 2025 else 0)}\n",
    "    except Exception as e:\n",
    "        date_day[f]= f\"Invalide date {f}\"\n",
    "\n",
    "date_day"
   ]
  }
 ],
 "metadata": {
  "kernelspec": {
   "display_name": ".VENV",
   "language": "python",
   "name": "python3"
  },
  "language_info": {
   "codemirror_mode": {
    "name": "ipython",
    "version": 3
   },
   "file_extension": ".py",
   "mimetype": "text/x-python",
   "name": "python",
   "nbconvert_exporter": "python",
   "pygments_lexer": "ipython3",
   "version": "3.11.9"
  }
 },
 "nbformat": 4,
 "nbformat_minor": 2
}
