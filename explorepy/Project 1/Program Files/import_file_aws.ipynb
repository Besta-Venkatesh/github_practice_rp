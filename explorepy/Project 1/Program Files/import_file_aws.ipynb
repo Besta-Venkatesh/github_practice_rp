{
 "cells": [
  {
   "cell_type": "markdown",
   "metadata": {},
   "source": [
    "* Lamida Function To push the file from one bucket to another as soon as it is inserted"
   ]
  },
  {
   "cell_type": "code",
   "execution_count": null,
   "metadata": {},
   "outputs": [],
   "source": [
    "import json\n",
    "import boto3\n",
    "\n",
    "def lambda_handler(event, context):\n",
    "    # Initialize S3 client\n",
    "    s3 = boto3.client('s3')\n",
    "    try:\n",
    "        # Extract bucket name and object key from the event\n",
    "        source_bucket = event['Records'][0]['s3']['bucket']['name']\n",
    "        source_key = event['Records'][0]['s3']['object']['key']\n",
    "        \n",
    "        # Define destination bucket and key\n",
    "        destination_bucket = 'zishtacoretransit-1'\n",
    "        for _ in range(3):  # Retry up to 3 times\n",
    "            try:\n",
    "                # Copy the object to the destination bucket\n",
    "                copy_source = {'Bucket': source_bucket, 'Key': source_key}\n",
    "                s3.copy_object(CopySource=copy_source, Bucket=destination_bucket, Key=source_key)\n",
    "\n",
    "                print(f\"File copied from {source_bucket}/{source_key} to {destination_bucket}/{source_key}\")\n",
    "                \n",
    "            except Exception as e:\n",
    "                print(f\"Error: {e}\")\n",
    "                raise e\n",
    "        else:\n",
    "                raise Exception(\"Max retries reached. File not found.\")\n",
    "    except Exception as e:\n",
    "        print(f\"Error: {e}\")\n",
    "        raise e\n",
    "  \n"
   ]
  }
 ],
 "metadata": {
  "kernelspec": {
   "display_name": ".VENV",
   "language": "python",
   "name": "python3"
  },
  "language_info": {
   "name": "python",
   "version": "3.11.9"
  }
 },
 "nbformat": 4,
 "nbformat_minor": 2
}
