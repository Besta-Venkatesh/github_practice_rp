{
 "cells": [
  {
   "cell_type": "code",
   "execution_count": null,
   "metadata": {},
   "outputs": [],
   "source": [
    "import requests\n",
    "import json\n",
    "\n",
    "# Function to get live stock data for a symbol\n",
    "def get_stock_data():\n",
    "    url = \"https://www.alphavantage.co/query?function=TIME_SERIES_INTRADAY&symbol=IBM&interval=5min&outputsize=full&apikey=demo/\"\n",
    "    response = requests.get(url)\n",
    "    print(response)\n",
    "    # Check if the response is successful\n",
    "    if response.status_code == 200:\n",
    "        data = response.json()\n",
    "        print(data)\n",
    "        last_refreshed = data[\"Meta Data\"][\"3. Last Refreshed\"]\n",
    "        print(last_refreshed)\n",
    "        price = data[\"Time Series (5min)\"][last_refreshed][\"1. open\"]\n",
    "        print(print)\n",
    "        return price\n",
    "    else:\n",
    "        return None\n",
    "\n",
    "stock_prices = {}\n",
    "price = get_stock_data()\n",
    "symbol = \"IBM\"\n",
    "if price is not None:\n",
    "    stock_prices[symbol] = price\n",
    "\n",
    "print(stock_prices)\n"
   ]
  },
  {
   "cell_type": "markdown",
   "metadata": {},
   "source": [
    "* Chunk Processing of data from excel to database"
   ]
  },
  {
   "cell_type": "code",
   "execution_count": null,
   "metadata": {},
   "outputs": [],
   "source": [
    "import pandas as pd\n",
    "import numpy as np\n",
    "data = {\n",
    "    'Transaction_ID': range(1, 10001),\n",
    "    'Customer_ID': np.random.randint(1000, 5000, size=10000),\n",
    "    'Amount': np.random.uniform(10.0, 1000.0, size=10000),\n",
    "    'Timestamp': pd.date_range('2024-01-01', periods=10000, freq='S')\n",
    "}\n",
    "\n",
    "df = pd.DataFrame(data)\n",
    "df"
   ]
  },
  {
   "cell_type": "code",
   "execution_count": null,
   "metadata": {},
   "outputs": [],
   "source": [
    "def load_records(chunk, loaded_ids):\n",
    "    for _, row in chunk.iterrows():\n",
    "        # Simulating a crash at Transaction_ID = 5,500\n",
    "        if row['Transaction_ID'] == 5500:\n",
    "            raise Exception(\"Simulated crash at Transaction_ID = 5500\")\n",
    "        \n",
    "        # Pretend to load the record into the database\n",
    "        loaded_ids.add(row['Transaction_ID'])\n",
    "\n",
    "# Tracking loaded records\n",
    "loaded_ids = set()\n",
    "\n",
    "try:\n",
    "    chunk_size = 10\n",
    "    for i in range(0, len(df), chunk_size):\n",
    "        chunk = df.iloc[i:i + chunk_size]\n",
    "        print(chunk)\n",
    "        load_records(chunk, loaded_ids)\n",
    "    print(loaded_ids)\n",
    "except Exception as e:\n",
    "    print(f\"Loading interrupted: {e}\")"
   ]
  },
  {
   "cell_type": "code",
   "execution_count": null,
   "metadata": {},
   "outputs": [],
   "source": [
    "loaded_records = df[df['Transaction_ID'].isin(loaded_ids)]\n",
    "print(f\"Records successfully loaded: {len(loaded_records)}\")\n",
    "\n",
    "# Identifying Remaining Records\n",
    "\n",
    "# Remaining records to be loaded\n",
    "remaining_records = df[~df['Transaction_ID'].isin(loaded_ids)]\n",
    "print(f\"Records remaining to be loaded: {len(remaining_records)}\")\n",
    "\n",
    "# Resuming the Load\n",
    "# Now, load only the remaining records into the database.\n",
    "try:\n",
    "    for i in range(0, len(remaining_records), chunk_size):\n",
    "        chunk = remaining_records.iloc[i:i + chunk_size]\n",
    "        load_records(chunk, loaded_ids)\n",
    "    print(\"Data loading completed successfully.\")\n",
    "\n",
    "except Exception as e:\n",
    "    print(f\"Error during reload: {e}\")\n"
   ]
  },
  {
   "cell_type": "code",
   "execution_count": null,
   "metadata": {},
   "outputs": [],
   "source": [
    "for i in range(0,1000,100):\n",
    "    print(i)"
   ]
  }
 ],
 "metadata": {
  "kernelspec": {
   "display_name": ".VENV",
   "language": "python",
   "name": "python3"
  },
  "language_info": {
   "codemirror_mode": {
    "name": "ipython",
    "version": 3
   },
   "file_extension": ".py",
   "mimetype": "text/x-python",
   "name": "python",
   "nbconvert_exporter": "python",
   "pygments_lexer": "ipython3",
   "version": "3.11.9"
  }
 },
 "nbformat": 4,
 "nbformat_minor": 2
}
